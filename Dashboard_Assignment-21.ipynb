{
 "cells": [
  {
   "cell_type": "code",
   "execution_count": null,
   "metadata": {},
   "outputs": [],
   "source": [
    "1. Add the current date to the text file today.txt as a string."
   ]
  },
  {
   "cell_type": "code",
   "execution_count": 1,
   "metadata": {},
   "outputs": [
    {
     "name": "stdout",
     "output_type": "stream",
     "text": [
      "02-05-2023\n"
     ]
    }
   ],
   "source": [
    "import datetime\n",
    "# Code to Add current date to the today.txt file\n",
    "file = open('today.txt','w')\n",
    "file.write(datetime.datetime.now().strftime(\"%d-%m-%Y\"))\n",
    "file.close()\n",
    "# Code to Read current date from today.txt file\n",
    "file = open('today.txt','r')\n",
    "print(file.read())\n",
    "file.close()"
   ]
  },
  {
   "cell_type": "code",
   "execution_count": null,
   "metadata": {},
   "outputs": [],
   "source": [
    "2. Read the text file today.txt into the string today_string"
   ]
  },
  {
   "cell_type": "code",
   "execution_count": 2,
   "metadata": {},
   "outputs": [
    {
     "name": "stdout",
     "output_type": "stream",
     "text": [
      "02-05-2023\n"
     ]
    }
   ],
   "source": [
    "file = open('today.txt','r')\n",
    "today_string = file.read()\n",
    "print(today_string)"
   ]
  },
  {
   "cell_type": "code",
   "execution_count": null,
   "metadata": {},
   "outputs": [],
   "source": [
    "3. Parse the date from today_string."
   ]
  },
  {
   "cell_type": "code",
   "execution_count": 3,
   "metadata": {},
   "outputs": [
    {
     "name": "stdout",
     "output_type": "stream",
     "text": [
      "2023-05-02 00:00:00\n"
     ]
    }
   ],
   "source": [
    "from datetime import datetime\n",
    "parsed_data = datetime.strptime(today_string, '%d-%m-%Y')\n",
    "print(parsed_data)"
   ]
  },
  {
   "cell_type": "code",
   "execution_count": null,
   "metadata": {},
   "outputs": [],
   "source": [
    "4. List the files in your current directory"
   ]
  },
  {
   "cell_type": "code",
   "execution_count": 4,
   "metadata": {},
   "outputs": [
    {
     "name": "stdout",
     "output_type": "stream",
     "text": [
      "books.csv\n",
      "books.db\n",
      "Dasboard_Assignment-10.ipynb\n",
      "Dashboard-Assignment-28.ipynb\n",
      "Dashboard_Assignment-1.ipynb\n",
      "Dashboard_Assignment-11.ipynb\n",
      "Dashboard_Assignment-12.ipynb\n",
      "Dashboard_Assignment-13.ipynb\n",
      "Dashboard_Assignment-14.ipynb\n",
      "Dashboard_Assignment-15.ipynb\n",
      "Dashboard_Assignment-16.ipynb\n",
      "Dashboard_Assignment-17.ipynb\n",
      "Dashboard_Assignment-18.ipynb\n",
      "Dashboard_Assignment-19.ipynb\n",
      "Dashboard_Assignment-21.ipynb\n",
      "Dashboard_Assignment-22.ipynb\n",
      "Dashboard_Assignment-24.ipynb\n",
      "Dashboard_Assignment-25.ipynb\n",
      "Dashboard_Assignment-26.ipynb\n",
      "Dashboard_Assignment-27.ipynb\n",
      "Dashboard_assignment-3.ipynb\n",
      "Dashboard_Assignment-30.ipynb\n",
      "dashboard_Assignment-4.ipynb\n",
      "dashboard_Assignment-5.ipynb\n",
      "dashboard_Assignment-6.ipynb\n",
      "Dashboard_Assignment-7.ipynb\n",
      "Dashboard_Assignment-8.ipynb\n",
      "Dashboard_Assignment-9.ipynb\n",
      "Dashboard_Assignment_2.ipynb\n",
      "Dashboard_Asssignment-23.ipynb\n",
      "Dashboard_Asssignment-29.ipynb\n",
      "Dassboard_Assignment-20.ipynb\n",
      "test.txt\n",
      "today.txt\n",
      "Dasboard_Assignment-10-checkpoint.ipynb\n",
      "Dashboard-Assignment-28-checkpoint.ipynb\n",
      "Dashboard_Assignment-1-checkpoint.ipynb\n",
      "Dashboard_Assignment-11-checkpoint.ipynb\n",
      "Dashboard_Assignment-12-checkpoint.ipynb\n",
      "Dashboard_Assignment-13-checkpoint.ipynb\n",
      "Dashboard_Assignment-14-checkpoint.ipynb\n",
      "Dashboard_Assignment-15-checkpoint.ipynb\n",
      "Dashboard_Assignment-16-checkpoint.ipynb\n",
      "Dashboard_Assignment-17-checkpoint.ipynb\n",
      "Dashboard_Assignment-18-checkpoint.ipynb\n",
      "Dashboard_Assignment-19-checkpoint.ipynb\n",
      "Dashboard_Assignment-21-checkpoint.ipynb\n",
      "Dashboard_Assignment-22-checkpoint.ipynb\n",
      "Dashboard_Assignment-24-checkpoint.ipynb\n",
      "Dashboard_Assignment-25-checkpoint.ipynb\n",
      "Dashboard_Assignment-26-checkpoint.ipynb\n",
      "Dashboard_Assignment-27-checkpoint.ipynb\n",
      "Dashboard_assignment-3-checkpoint.ipynb\n",
      "Dashboard_Assignment-30-checkpoint.ipynb\n",
      "dashboard_Assignment-4-checkpoint.ipynb\n",
      "dashboard_Assignment-5-checkpoint.ipynb\n",
      "dashboard_Assignment-6-checkpoint.ipynb\n",
      "Dashboard_Assignment-7-checkpoint.ipynb\n",
      "Dashboard_Assignment-8-checkpoint.ipynb\n",
      "Dashboard_Assignment-9-checkpoint.ipynb\n",
      "Dashboard_Assignment_2-checkpoint.ipynb\n",
      "Dashboard_Asssignment-23-checkpoint.ipynb\n",
      "Dashboard_Asssignment-29-checkpoint.ipynb\n",
      "Dassboard_Assignment-20-checkpoint.ipynb\n"
     ]
    }
   ],
   "source": [
    "import os\n",
    "for folders, subfolders, files in os.walk(os.getcwd()):\n",
    "    for file in files:\n",
    "        print(file)"
   ]
  },
  {
   "cell_type": "code",
   "execution_count": null,
   "metadata": {},
   "outputs": [],
   "source": [
    "5. Create a list of all of the files in your parent directory (minimum five files should be available)."
   ]
  },
  {
   "cell_type": "code",
   "execution_count": 5,
   "metadata": {},
   "outputs": [
    {
     "data": {
      "text/plain": [
       "['.ipynb_checkpoints',\n",
       " 'books.csv',\n",
       " 'books.db',\n",
       " 'Dasboard_Assignment-10.ipynb',\n",
       " 'Dashboard-Assignment-28.ipynb',\n",
       " 'Dashboard_Assignment-1.ipynb',\n",
       " 'Dashboard_Assignment-11.ipynb',\n",
       " 'Dashboard_Assignment-12.ipynb',\n",
       " 'Dashboard_Assignment-13.ipynb',\n",
       " 'Dashboard_Assignment-14.ipynb',\n",
       " 'Dashboard_Assignment-15.ipynb',\n",
       " 'Dashboard_Assignment-16.ipynb',\n",
       " 'Dashboard_Assignment-17.ipynb',\n",
       " 'Dashboard_Assignment-18.ipynb',\n",
       " 'Dashboard_Assignment-19.ipynb',\n",
       " 'Dashboard_Assignment-21.ipynb',\n",
       " 'Dashboard_Assignment-22.ipynb',\n",
       " 'Dashboard_Assignment-24.ipynb',\n",
       " 'Dashboard_Assignment-25.ipynb',\n",
       " 'Dashboard_Assignment-26.ipynb',\n",
       " 'Dashboard_Assignment-27.ipynb',\n",
       " 'Dashboard_assignment-3.ipynb',\n",
       " 'Dashboard_Assignment-30.ipynb',\n",
       " 'dashboard_Assignment-4.ipynb',\n",
       " 'dashboard_Assignment-5.ipynb',\n",
       " 'dashboard_Assignment-6.ipynb',\n",
       " 'Dashboard_Assignment-7.ipynb',\n",
       " 'Dashboard_Assignment-8.ipynb',\n",
       " 'Dashboard_Assignment-9.ipynb',\n",
       " 'Dashboard_Assignment_2.ipynb',\n",
       " 'Dashboard_Asssignment-23.ipynb',\n",
       " 'Dashboard_Asssignment-29.ipynb',\n",
       " 'Dassboard_Assignment-20.ipynb',\n",
       " 'test.txt',\n",
       " 'today.txt']"
      ]
     },
     "execution_count": 5,
     "metadata": {},
     "output_type": "execute_result"
    }
   ],
   "source": [
    "import os \n",
    "os.listdir()"
   ]
  },
  {
   "cell_type": "code",
   "execution_count": null,
   "metadata": {},
   "outputs": [],
   "source": [
    "6. Use multiprocessing to create three separate processes. Make each one wait a random number of seconds between one and five, print the current time, and then exit."
   ]
  },
  {
   "cell_type": "code",
   "execution_count": null,
   "metadata": {},
   "outputs": [],
   "source": [
    "import multiprocessing\n",
    "import time \n",
    "import random\n",
    "import datetime\n",
    "\n",
    "def procOne():\n",
    "    print(f'Proc_one_Starttime -> {datetime.datetime.now()}')\n",
    "    time.sleep(random.randint(1,5))\n",
    "    print(f'Proc_one_Endtime -> {datetime.datetime.now()}')\n",
    "    \n",
    "def procTwo():\n",
    "    print(f'Proc_two_Starttime -> {datetime.datetime.now()}')\n",
    "    time.sleep(random.randint(1,5))\n",
    "    print(f'Proc_two_Endtime -> {datetime.datetime.now()}')\n",
    "\n",
    "def procThree():\n",
    "    print(f'Proc_two_Starttime -> {datetime.datetime.now()}')\n",
    "    time.sleep(random.randint(1,5))\n",
    "    print(f'Proc_two_Endtime -> {datetime.datetime.now()}')\n",
    "    \n",
    "if __name__ == \"__main__\":    \n",
    "    p1 = multiprocessing.Process(target=procOne)\n",
    "    p2 = multiprocessing.Process(target=procTwo)\n",
    "    p3 = multiprocessing.Process(target=procThree)\n",
    "\n",
    "    p1.start()\n",
    "    p2.start()\n",
    "    p3.start()\n",
    "\n",
    "    p1.join()\n",
    "    p2.join()\n",
    "    p3.join()"
   ]
  },
  {
   "cell_type": "code",
   "execution_count": null,
   "metadata": {},
   "outputs": [],
   "source": [
    "7. Create a date object of your day of birth."
   ]
  },
  {
   "cell_type": "code",
   "execution_count": 14,
   "metadata": {},
   "outputs": [
    {
     "name": "stdout",
     "output_type": "stream",
     "text": [
      "1992-06-02\n"
     ]
    }
   ],
   "source": [
    "from datetime import date\n",
    "dob = date(1992,6,2)\n",
    "print(dob)"
   ]
  },
  {
   "cell_type": "code",
   "execution_count": null,
   "metadata": {},
   "outputs": [],
   "source": [
    "8. What day of the week was your day of birth?"
   ]
  },
  {
   "cell_type": "code",
   "execution_count": 17,
   "metadata": {},
   "outputs": [
    {
     "name": "stdout",
     "output_type": "stream",
     "text": [
      "Week day : 1\n",
      "My birthday was on a Tuesday\n"
     ]
    }
   ],
   "source": [
    "from datetime import date\n",
    "dob = date(1992,6,2)\n",
    "weekday=dob.weekday()\n",
    "print(\"Week day :\",weekday)\n",
    "# Monday is 0 and Sunday is 6\n",
    "days_of_week = ['Monday', 'Tuesday', 'Wednesday', 'Thursday', 'Friday', 'Saturday', 'Sunday']\n",
    "print('My birthday was on a', days_of_week[weekday])"
   ]
  },
  {
   "cell_type": "code",
   "execution_count": null,
   "metadata": {},
   "outputs": [],
   "source": [
    "9. When will you be (or when were you) 10,000 days old?"
   ]
  },
  {
   "cell_type": "code",
   "execution_count": 18,
   "metadata": {},
   "outputs": [
    {
     "name": "stdout",
     "output_type": "stream",
     "text": [
      "You will be or were 10,000 days old on: 2019-10-19\n"
     ]
    }
   ],
   "source": [
    "from datetime import date, timedelta\n",
    "# Set the date of birth\n",
    "dob = date(1992, 6, 2)\n",
    "\n",
    "# Calculate the number of days until 10,000th day birthday\n",
    "days_until_10k = timedelta(days=10000)\n",
    "ten_k_birthday = dob + days_until_10k\n",
    "\n",
    "# Print the result\n",
    "print(\"You will be or were 10,000 days old on:\", ten_k_birthday)"
   ]
  },
  {
   "cell_type": "code",
   "execution_count": null,
   "metadata": {},
   "outputs": [],
   "source": []
  },
  {
   "cell_type": "code",
   "execution_count": null,
   "metadata": {},
   "outputs": [],
   "source": []
  },
  {
   "cell_type": "code",
   "execution_count": null,
   "metadata": {},
   "outputs": [],
   "source": []
  },
  {
   "cell_type": "code",
   "execution_count": null,
   "metadata": {},
   "outputs": [],
   "source": []
  },
  {
   "cell_type": "code",
   "execution_count": null,
   "metadata": {},
   "outputs": [],
   "source": []
  },
  {
   "cell_type": "code",
   "execution_count": null,
   "metadata": {},
   "outputs": [],
   "source": []
  },
  {
   "cell_type": "code",
   "execution_count": null,
   "metadata": {},
   "outputs": [],
   "source": []
  },
  {
   "cell_type": "code",
   "execution_count": null,
   "metadata": {},
   "outputs": [],
   "source": []
  },
  {
   "cell_type": "code",
   "execution_count": null,
   "metadata": {},
   "outputs": [],
   "source": []
  },
  {
   "cell_type": "code",
   "execution_count": null,
   "metadata": {},
   "outputs": [],
   "source": []
  },
  {
   "cell_type": "code",
   "execution_count": null,
   "metadata": {},
   "outputs": [],
   "source": []
  },
  {
   "cell_type": "code",
   "execution_count": null,
   "metadata": {},
   "outputs": [],
   "source": []
  },
  {
   "cell_type": "code",
   "execution_count": null,
   "metadata": {},
   "outputs": [],
   "source": []
  },
  {
   "cell_type": "code",
   "execution_count": null,
   "metadata": {},
   "outputs": [],
   "source": []
  },
  {
   "cell_type": "code",
   "execution_count": null,
   "metadata": {},
   "outputs": [],
   "source": []
  },
  {
   "cell_type": "code",
   "execution_count": null,
   "metadata": {},
   "outputs": [],
   "source": []
  },
  {
   "cell_type": "code",
   "execution_count": null,
   "metadata": {},
   "outputs": [],
   "source": []
  },
  {
   "cell_type": "code",
   "execution_count": null,
   "metadata": {},
   "outputs": [],
   "source": []
  },
  {
   "cell_type": "code",
   "execution_count": null,
   "metadata": {},
   "outputs": [],
   "source": []
  },
  {
   "cell_type": "code",
   "execution_count": null,
   "metadata": {},
   "outputs": [],
   "source": []
  },
  {
   "cell_type": "code",
   "execution_count": null,
   "metadata": {},
   "outputs": [],
   "source": []
  },
  {
   "cell_type": "code",
   "execution_count": null,
   "metadata": {},
   "outputs": [],
   "source": []
  },
  {
   "cell_type": "code",
   "execution_count": null,
   "metadata": {},
   "outputs": [],
   "source": []
  },
  {
   "cell_type": "code",
   "execution_count": null,
   "metadata": {},
   "outputs": [],
   "source": []
  },
  {
   "cell_type": "code",
   "execution_count": null,
   "metadata": {},
   "outputs": [],
   "source": []
  },
  {
   "cell_type": "code",
   "execution_count": null,
   "metadata": {},
   "outputs": [],
   "source": []
  }
 ],
 "metadata": {
  "kernelspec": {
   "display_name": "Python 3",
   "language": "python",
   "name": "python3"
  },
  "language_info": {
   "codemirror_mode": {
    "name": "ipython",
    "version": 3
   },
   "file_extension": ".py",
   "mimetype": "text/x-python",
   "name": "python",
   "nbconvert_exporter": "python",
   "pygments_lexer": "ipython3",
   "version": "3.8.5"
  }
 },
 "nbformat": 4,
 "nbformat_minor": 4
}
